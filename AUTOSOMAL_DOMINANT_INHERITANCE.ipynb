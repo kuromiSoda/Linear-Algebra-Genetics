{
  "nbformat": 4,
  "nbformat_minor": 0,
  "metadata": {
    "colab": {
      "name": "Copy of Autosomal_Dom_Linked.ipynb",
      "provenance": [],
      "collapsed_sections": []
    },
    "kernelspec": {
      "name": "python3",
      "display_name": "Python 3"
    },
    "language_info": {
      "name": "python"
    }
  },
  "cells": [
    {
      "cell_type": "markdown",
      "source": [
        "Stochastic matrix:"
      ],
      "metadata": {
        "id": "A55IVTdKIkQo"
      }
    },
    {
      "cell_type": "code",
      "source": [
        "import numpy as np"
      ],
      "metadata": {
        "id": "qwiY7relc1Pe"
      },
      "execution_count": null,
      "outputs": []
    },
    {
      "cell_type": "code",
      "source": [
        "A = np.array([[1.0,0.5,0], [0.0,0.5,1.0], [0.0,0.0,0.0]])"
      ],
      "metadata": {
        "id": "Jg5d0v31c4i3"
      },
      "execution_count": null,
      "outputs": []
    },
    {
      "cell_type": "markdown",
      "source": [
        "Initial distribution of the population"
      ],
      "metadata": {
        "id": "KQ9tGHMmdP63"
      }
    },
    {
      "cell_type": "code",
      "source": [
        "k = 1/3\n",
        "x0 = np.array([[k],[k],[k]])"
      ],
      "metadata": {
        "id": "ksdLw4X1dYLi"
      },
      "execution_count": null,
      "outputs": []
    },
    {
      "cell_type": "markdown",
      "source": [
        "Input for number of gens"
      ],
      "metadata": {
        "id": "RcHF8IjreurO"
      }
    },
    {
      "cell_type": "code",
      "source": [
        "n = input(\"Enter the number of years after which the result is needed: \")\n",
        "n = int(n)"
      ],
      "metadata": {
        "colab": {
          "base_uri": "https://localhost:8080/"
        },
        "id": "z8J8abkGeuEj",
        "outputId": "bb19ba23-4a88-40b7-fe09-6f163f5979b2"
      },
      "execution_count": null,
      "outputs": [
        {
          "name": "stdout",
          "output_type": "stream",
          "text": [
            "Enter the number of years after which the result is needed: 3\n"
          ]
        }
      ]
    },
    {
      "cell_type": "markdown",
      "source": [
        "Diagonalisation of matrix"
      ],
      "metadata": {
        "id": "8SYAuVIadsDg"
      }
    },
    {
      "cell_type": "code",
      "source": [
        "evals, evects = np.linalg.eig(A)\n",
        "\n",
        "P = evects\n",
        "\n",
        "D = np.zeros((3,3))\n",
        "for i in range(3):\n",
        "    D[i,i] = evals[i]\n",
        "\n",
        "P_inv = np.linalg.inv(P)"
      ],
      "metadata": {
        "id": "wYC3fUwfdvwZ"
      },
      "execution_count": null,
      "outputs": []
    },
    {
      "cell_type": "code",
      "source": [
        "Dn = np.linalg.matrix_power(D,n)"
      ],
      "metadata": {
        "id": "NaVFlOccemg1"
      },
      "execution_count": null,
      "outputs": []
    },
    {
      "cell_type": "markdown",
      "source": [
        "The result"
      ],
      "metadata": {
        "id": "vi4CcHZPfAoX"
      }
    },
    {
      "cell_type": "code",
      "source": [
        "xn = np.dot((P @ Dn @ P_inv), x0)\n",
        "xn"
      ],
      "metadata": {
        "colab": {
          "base_uri": "https://localhost:8080/"
        },
        "id": "Fad25bgCe-qP",
        "outputId": "cc1a60da-99c8-4349-b0c5-8ddcd1841cef"
      },
      "execution_count": null,
      "outputs": [
        {
          "output_type": "execute_result",
          "data": {
            "text/plain": [
              "array([[0.875],\n",
              "       [0.125],\n",
              "       [0.   ]])"
            ]
          },
          "metadata": {},
          "execution_count": 53
        }
      ]
    },
    {
      "cell_type": "markdown",
      "source": [
        "GRAPH"
      ],
      "metadata": {
        "id": "aXtYE7W45RRw"
      }
    },
    {
      "cell_type": "code",
      "source": [
        "brown_pure = xn[0][0] \n",
        "brown_hybrid = xn[1][0]\n",
        "blue = xn[2][0]"
      ],
      "metadata": {
        "id": "scuLywS5rc01"
      },
      "execution_count": null,
      "outputs": []
    },
    {
      "cell_type": "code",
      "source": [
        "import matplotlib.pyplot as plt"
      ],
      "metadata": {
        "id": "ubwtbUcdrwCu"
      },
      "execution_count": null,
      "outputs": []
    },
    {
      "cell_type": "code",
      "source": [
        "y = np.array([brown_pure, brown_hybrid, blue])\n",
        "myLabels = [\"AA\", \"Aa\", \"aa\"]\n",
        "plt.pie(y, labels = myLabels)\n",
        "plt.show()"
      ],
      "metadata": {
        "colab": {
          "base_uri": "https://localhost:8080/",
          "height": 248
        },
        "id": "uBf7Z5Pir9Yb",
        "outputId": "3bf1822c-4682-4d9d-b854-408442fba111"
      },
      "execution_count": null,
      "outputs": [
        {
          "output_type": "display_data",
          "data": {
            "text/plain": [
              "<Figure size 432x288 with 1 Axes>"
            ],
            "image/png": "[encoded data removed]"
          },
          "metadata": {}
        }
      ]
    }
  ]
}