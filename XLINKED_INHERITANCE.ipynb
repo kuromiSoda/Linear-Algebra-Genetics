{
  "nbformat": 4,
  "nbformat_minor": 0,
  "metadata": {
    "colab": {
      "name": "Copy of XLinked_Inheritence.ipynb",
      "provenance": [],
      "collapsed_sections": []
    },
    "kernelspec": {
      "name": "python3",
      "display_name": "Python 3"
    },
    "language_info": {
      "name": "python"
    }
  },
  "cells": [
    {
      "cell_type": "code",
      "execution_count": null,
      "metadata": {
        "id": "iGF7mTqo_uvD"
      },
      "outputs": [],
      "source": [
        "import numpy as np"
      ]
    },
    {
      "cell_type": "markdown",
      "source": [
        "Stochastic matrix"
      ],
      "metadata": {
        "id": "5RxtqeJ6Ai6s"
      }
    },
    {
      "cell_type": "code",
      "source": [
        "M = np.array([[1,0.25,0,0,0,0] , \n",
        "              [0,0.25,0,1,0.25,0] , \n",
        "              [0,0,0,0,0.25,0] , \n",
        "              [0,0.25,0,0,0,0] , \n",
        "              [0,0.25,1,0,0.25,0] , \n",
        "              [0,0,0,0,0.25,1]])"
      ],
      "metadata": {
        "id": "lx7GVToV_2Vx"
      },
      "execution_count": null,
      "outputs": []
    },
    {
      "cell_type": "markdown",
      "source": [
        "Initial generation"
      ],
      "metadata": {
        "id": "PiMyrtnxAm7c"
      }
    },
    {
      "cell_type": "code",
      "source": [
        "k = 1/6\n",
        "x0 = np.array([[0] , [1] , [0] , [0] , [0] , [0]])\n",
        "x0"
      ],
      "metadata": {
        "colab": {
          "base_uri": "https://localhost:8080/"
        },
        "id": "89kgFbNFAmm3",
        "outputId": "ae9fa5f9-6724-4df1-a599-4f6b47a408c1"
      },
      "execution_count": null,
      "outputs": [
        {
          "output_type": "execute_result",
          "data": {
            "text/plain": [
              "array([[0],\n",
              "       [1],\n",
              "       [0],\n",
              "       [0],\n",
              "       [0],\n",
              "       [0]])"
            ]
          },
          "metadata": {},
          "execution_count": 13
        }
      ]
    },
    {
      "cell_type": "code",
      "source": [
        "n = input(\"Enter the number of years after which the result is needed: \")\n",
        "n = int(n)"
      ],
      "metadata": {
        "colab": {
          "base_uri": "https://localhost:8080/"
        },
        "id": "PLwTbImCA6U_",
        "outputId": "f187e1cf-f534-4e77-e256-23a8568dee76"
      },
      "execution_count": null,
      "outputs": [
        {
          "name": "stdout",
          "output_type": "stream",
          "text": [
            "Enter the number of years after which the result is needed: 7\n"
          ]
        }
      ]
    },
    {
      "cell_type": "code",
      "source": [
        "evals, evects = np.linalg.eig(M)\n",
        "print(evals)\n",
        "\n",
        "P = evects\n",
        "\n",
        "D = np.zeros((6,6))\n",
        "for i in range(6):\n",
        "    D[i,i] = evals[i]\n",
        "\n",
        "P_inv = np.linalg.inv(P)\n",
        "\n",
        "Dn = np.linalg.matrix_power(D,n)"
      ],
      "metadata": {
        "colab": {
          "base_uri": "https://localhost:8080/"
        },
        "id": "cB4L-PkLBGzo",
        "outputId": "be458d21-b520-4a3d-e27e-c37dcc5a4d45"
      },
      "execution_count": null,
      "outputs": [
        {
          "output_type": "stream",
          "name": "stdout",
          "text": [
            "[ 1.          1.          0.80901699  0.5        -0.5        -0.30901699]\n"
          ]
        }
      ]
    },
    {
      "cell_type": "code",
      "source": [
        "print(\"P:\\n\",P)\n",
        "print(\"P inv:\\n\",P_inv)\n",
        "print(\"D:\\n\",D)"
      ],
      "metadata": {
        "colab": {
          "base_uri": "https://localhost:8080/"
        },
        "id": "aQCoOMllB_v4",
        "outputId": "dcf2ba73-92c9-423d-d572-c3be44aeffbf"
      },
      "execution_count": null,
      "outputs": [
        {
          "output_type": "stream",
          "name": "stdout",
          "text": [
            "P:\n",
            " [[ 1.          0.         -0.5522721   0.28867513  0.10425721 -0.10385086]\n",
            " [ 0.          0.          0.42189834 -0.57735027 -0.62554324  0.54377017]\n",
            " [ 0.          0.          0.13037376  0.28867513 -0.31277162 -0.43991931]\n",
            " [ 0.          0.          0.13037376 -0.28867513  0.31277162 -0.43991931]\n",
            " [ 0.          0.          0.42189834  0.57735027  0.62554324  0.54377017]\n",
            " [ 0.          1.         -0.5522721  -0.28867513 -0.10425721 -0.10385086]]\n",
            "P inv:\n",
            " [[ 1.          0.66666667  0.33333333  0.66666667  0.33333333  0.        ]\n",
            " [ 0.          0.33333333  0.66666667  0.33333333  0.66666667  1.        ]\n",
            " [ 0.          0.85756061  1.06000321  1.06000321  0.85756061  0.        ]\n",
            " [-0.         -0.4330127   0.8660254  -0.8660254   0.4330127  -0.        ]\n",
            " [-0.         -0.39965263 -0.79930525  0.79930525  0.39965263 -0.        ]\n",
            " [-0.          0.25414524 -0.82243128 -0.82243128  0.25414524 -0.        ]]\n",
            "D:\n",
            " [[ 1.          0.          0.          0.          0.          0.        ]\n",
            " [ 0.          1.          0.          0.          0.          0.        ]\n",
            " [ 0.          0.          0.80901699  0.          0.          0.        ]\n",
            " [ 0.          0.          0.          0.5         0.          0.        ]\n",
            " [ 0.          0.          0.          0.         -0.5         0.        ]\n",
            " [ 0.          0.          0.          0.          0.         -0.30901699]]\n"
          ]
        }
      ]
    },
    {
      "cell_type": "code",
      "source": [
        "xn = np.dot((P @ Dn @ P_inv), x0)\n",
        "xn"
      ],
      "metadata": {
        "colab": {
          "base_uri": "https://localhost:8080/"
        },
        "id": "2ZvZT_GnBO_v",
        "outputId": "878dae59-0945-4a18-e11c-fb2c900fc14e"
      },
      "execution_count": null,
      "outputs": [
        {
          "output_type": "execute_result",
          "data": {
            "text/plain": [
              "array([[0.55859375],\n",
              "       [0.08203125],\n",
              "       [0.0234375 ],\n",
              "       [0.02734375],\n",
              "       [0.08203125],\n",
              "       [0.2265625 ]])"
            ]
          },
          "metadata": {},
          "execution_count": 21
        }
      ]
    },
    {
      "cell_type": "markdown",
      "source": [
        "If k = 1/6\n",
        "then 0.5,0,0,0,0,0.5 for a large i/p"
      ],
      "metadata": {
        "id": "zp5FQxx1BnMp"
      }
    },
    {
      "cell_type": "code",
      "source": [
        "a = xn[0][0]\n",
        "b = xn[1][0]\n",
        "c = xn[2][0]\n",
        "d = xn[3][0]\n",
        "e = xn[4][0]\n",
        "f = xn[5][0]"
      ],
      "metadata": {
        "id": "iG92rOQLP4be"
      },
      "execution_count": null,
      "outputs": []
    },
    {
      "cell_type": "code",
      "source": [
        "import matplotlib.pyplot as plt\n",
        "\n",
        "y = np.array([a,b,c,d,e,f])\n",
        "myLabels = [\"(A, AA)\" , \"(A, Aa)\" , \"(A, aa)\" , \"(a, AA)\" , \"(a, Aa)\" , \"(a, aa)\"]\n",
        "plt.pie(y, labels = myLabels)\n",
        "plt.show()"
      ],
      "metadata": {
        "colab": {
          "base_uri": "https://localhost:8080/",
          "height": 248
        },
        "id": "DoJ4vzlvQJb_",
        "outputId": "ec2fc511-5e73-469b-9158-96033964497a"
      },
      "execution_count": null,
      "outputs": [
        {
          "output_type": "display_data",
          "data": {
            "text/plain": [
              "<Figure size 432x288 with 1 Axes>"
            ],
            "image/png": "[encoded data removed]"
          },
          "metadata": {}
        }
      ]
    }
  ]
}