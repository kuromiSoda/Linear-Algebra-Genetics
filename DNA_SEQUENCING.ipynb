{
  "nbformat": 4,
  "nbformat_minor": 0,
  "metadata": {
    "colab": {
      "name": "Copy of DNA_Sequencing.ipynb",
      "provenance": [],
      "collapsed_sections": []
    },
    "kernelspec": {
      "name": "python3",
      "display_name": "Python 3"
    },
    "language_info": {
      "name": "python"
    }
  },
  "cells": [
    {
      "cell_type": "markdown",
      "source": [
        "# **DNA SEQUENCING WITH ML**"
      ],
      "metadata": {
        "id": "DVBbmnX5eErY"
      }
    },
    {
      "cell_type": "code",
      "source": [
        "import numpy as np\n",
        "import pandas as pd\n",
        "import matplotlib.pyplot as plt\n",
        "%matplotlib inline"
      ],
      "metadata": {
        "id": "rg7c9RsOeXXC"
      },
      "execution_count": null,
      "outputs": []
    },
    {
      "cell_type": "code",
      "source": [
        "human_data = pd.read_table('/content/human_data.txt')\n",
        "human_data.head()"
      ],
      "metadata": {
        "colab": {
          "base_uri": "https://localhost:8080/",
          "height": 206
        },
        "id": "22RZnhNDek_p",
        "outputId": "0e292fdb-ddc9-431d-a29b-6b4ce79af173"
      },
      "execution_count": null,
      "outputs": [
        {
          "output_type": "execute_result",
          "data": {
            "text/plain": [
              "                                            sequence  class\n",
              "0  ATGCCCCAACTAAATACTACCGTATGGCCCACCATAATTACCCCCA...      4\n",
              "1  ATGAACGAAAATCTGTTCGCTTCATTCATTGCCCCCACAATCCTAG...      4\n",
              "2  ATGTGTGGCATTTGGGCGCTGTTTGGCAGTGATGATTGCCTTTCTG...      3\n",
              "3  ATGTGTGGCATTTGGGCGCTGTTTGGCAGTGATGATTGCCTTTCTG...      3\n",
              "4  ATGCAACAGCATTTTGAATTTGAATACCAGACCAAAGTGGATGGTG...      3"
            ],
            "text/html": [
              "\n",
              "  <div id=\"df-448fd96c-3316-4769-89f8-978bd43c828c\">\n",
              "    <div class=\"colab-df-container\">\n",
              "      <div>\n",
              "<style scoped>\n",
              "    .dataframe tbody tr th:only-of-type {\n",
              "        vertical-align: middle;\n",
              "    }\n",
              "\n",
              "    .dataframe tbody tr th {\n",
              "        vertical-align: top;\n",
              "    }\n",
              "\n",
              "    .dataframe thead th {\n",
              "        text-align: right;\n",
              "    }\n",
              "</style>\n",
              "<table border=\"1\" class=\"dataframe\">\n",
              "  <thead>\n",
              "    <tr style=\"text-align: right;\">\n",
              "      <th></th>\n",
              "      <th>sequence</th>\n",
              "      <th>class</th>\n",
              "    </tr>\n",
              "  </thead>\n",
              "  <tbody>\n",
              "    <tr>\n",
              "      <th>0</th>\n",
              "      <td>ATGCCCCAACTAAATACTACCGTATGGCCCACCATAATTACCCCCA...</td>\n",
              "      <td>4</td>\n",
              "    </tr>\n",
              "    <tr>\n",
              "      <th>1</th>\n",
              "      <td>ATGAACGAAAATCTGTTCGCTTCATTCATTGCCCCCACAATCCTAG...</td>\n",
              "      <td>4</td>\n",
              "    </tr>\n",
              "    <tr>\n",
              "      <th>2</th>\n",
              "      <td>ATGTGTGGCATTTGGGCGCTGTTTGGCAGTGATGATTGCCTTTCTG...</td>\n",
              "      <td>3</td>\n",
              "    </tr>\n",
              "    <tr>\n",
              "      <th>3</th>\n",
              "      <td>ATGTGTGGCATTTGGGCGCTGTTTGGCAGTGATGATTGCCTTTCTG...</td>\n",
              "      <td>3</td>\n",
              "    </tr>\n",
              "    <tr>\n",
              "      <th>4</th>\n",
              "      <td>ATGCAACAGCATTTTGAATTTGAATACCAGACCAAAGTGGATGGTG...</td>\n",
              "      <td>3</td>\n",
              "    </tr>\n",
              "  </tbody>\n",
              "</table>\n",
              "</div>\n",
              "      <button class=\"colab-df-convert\" onclick=\"convertToInteractive('df-448fd96c-3316-4769-89f8-978bd43c828c')\"\n",
              "              title=\"Convert this dataframe to an interactive table.\"\n",
              "              style=\"display:none;\">\n",
              "        \n",
              "  <svg xmlns=\"http://www.w3.org/2000/svg\" height=\"24px\"viewBox=\"0 0 24 24\"\n",
              "       width=\"24px\">\n",
              "    <path d=\"M0 0h24v24H0V0z\" fill=\"none\"/>\n",
              "    <path d=\"M18.56 5.44l.94 2.06.94-2.06 2.06-.94-2.06-.94-.94-2.06-.94 2.06-2.06.94zm-11 1L8.5 8.5l.94-2.06 2.06-.94-2.06-.94L8.5 2.5l-.94 2.06-2.06.94zm10 10l.94 2.06.94-2.06 2.06-.94-2.06-.94-.94-2.06-.94 2.06-2.06.94z\"/><path d=\"M17.41 7.96l-1.37-1.37c-.4-.4-.92-.59-1.43-.59-.52 0-1.04.2-1.43.59L10.3 9.45l-7.72 7.72c-.78.78-.78 2.05 0 2.83L4 21.41c.39.39.9.59 1.41.59.51 0 1.02-.2 1.41-.59l7.78-7.78 2.81-2.81c.8-.78.8-2.07 0-2.86zM5.41 20L4 18.59l7.72-7.72 1.47 1.35L5.41 20z\"/>\n",
              "  </svg>\n",
              "      </button>\n",
              "      \n",
              "  <style>\n",
              "    .colab-df-container {\n",
              "      display:flex;\n",
              "      flex-wrap:wrap;\n",
              "      gap: 12px;\n",
              "    }\n",
              "\n",
              "    .colab-df-convert {\n",
              "      background-color: #E8F0FE;\n",
              "      border: none;\n",
              "      border-radius: 50%;\n",
              "      cursor: pointer;\n",
              "      display: none;\n",
              "      fill: #1967D2;\n",
              "      height: 32px;\n",
              "      padding: 0 0 0 0;\n",
              "      width: 32px;\n",
              "    }\n",
              "\n",
              "    .colab-df-convert:hover {\n",
              "      background-color: #E2EBFA;\n",
              "      box-shadow: 0px 1px 2px rgba(60, 64, 67, 0.3), 0px 1px 3px 1px rgba(60, 64, 67, 0.15);\n",
              "      fill: #174EA6;\n",
              "    }\n",
              "\n",
              "    [theme=dark] .colab-df-convert {\n",
              "      background-color: #3B4455;\n",
              "      fill: #D2E3FC;\n",
              "    }\n",
              "\n",
              "    [theme=dark] .colab-df-convert:hover {\n",
              "      background-color: #434B5C;\n",
              "      box-shadow: 0px 1px 3px 1px rgba(0, 0, 0, 0.15);\n",
              "      filter: drop-shadow(0px 1px 2px rgba(0, 0, 0, 0.3));\n",
              "      fill: #FFFFFF;\n",
              "    }\n",
              "  </style>\n",
              "\n",
              "      <script>\n",
              "        const buttonEl =\n",
              "          document.querySelector('#df-448fd96c-3316-4769-89f8-978bd43c828c button.colab-df-convert');\n",
              "        buttonEl.style.display =\n",
              "          google.colab.kernel.accessAllowed ? 'block' : 'none';\n",
              "\n",
              "        async function convertToInteractive(key) {\n",
              "          const element = document.querySelector('#df-448fd96c-3316-4769-89f8-978bd43c828c');\n",
              "          const dataTable =\n",
              "            await google.colab.kernel.invokeFunction('convertToInteractive',\n",
              "                                                     [key], {});\n",
              "          if (!dataTable) return;\n",
              "\n",
              "          const docLinkHtml = 'Like what you see? Visit the ' +\n",
              "            '<a target=\"_blank\" href=https://colab.research.google.com/notebooks/data_table.ipynb>data table notebook</a>'\n",
              "            + ' to learn more about interactive tables.';\n",
              "          element.innerHTML = '';\n",
              "          dataTable['output_type'] = 'display_data';\n",
              "          await google.colab.output.renderOutput(dataTable, element);\n",
              "          const docLink = document.createElement('div');\n",
              "          docLink.innerHTML = docLinkHtml;\n",
              "          element.appendChild(docLink);\n",
              "        }\n",
              "      </script>\n",
              "    </div>\n",
              "  </div>\n",
              "  "
            ]
          },
          "metadata": {},
          "execution_count": 2
        }
      ]
    },
    {
      "cell_type": "code",
      "source": [
        "chimp_data = pd.read_table('/content/chimp_data.txt')\n",
        "chimp_data.head()"
      ],
      "metadata": {
        "colab": {
          "base_uri": "https://localhost:8080/",
          "height": 206
        },
        "id": "Zji3YDyiezM-",
        "outputId": "690aa01c-4876-40f6-ff77-e8bbfe606ac5"
      },
      "execution_count": null,
      "outputs": [
        {
          "output_type": "execute_result",
          "data": {
            "text/plain": [
              "                                            sequence  class\n",
              "0  ATGCCCCAACTAAATACCGCCGTATGACCCACCATAATTACCCCCA...      4\n",
              "1  ATGAACGAAAATCTATTCGCTTCATTCGCTGCCCCCACAATCCTAG...      4\n",
              "2  ATGGCCTCGCGCTGGTGGCGGTGGCGACGCGGCTGCTCCTGGAGGC...      4\n",
              "3  ATGGCCTCGCGCTGGTGGCGGTGGCGACGCGGCTGCTCCTGGAGGC...      4\n",
              "4  ATGGGCAGCGCCAGCCCGGGTCTGAGCAGCGTGTCCCCCAGCCACC...      6"
            ],
            "text/html": [
              "\n",
              "  <div id=\"df-9a4a1208-5536-48c6-a5e4-19bcdb9e6e40\">\n",
              "    <div class=\"colab-df-container\">\n",
              "      <div>\n",
              "<style scoped>\n",
              "    .dataframe tbody tr th:only-of-type {\n",
              "        vertical-align: middle;\n",
              "    }\n",
              "\n",
              "    .dataframe tbody tr th {\n",
              "        vertical-align: top;\n",
              "    }\n",
              "\n",
              "    .dataframe thead th {\n",
              "        text-align: right;\n",
              "    }\n",
              "</style>\n",
              "<table border=\"1\" class=\"dataframe\">\n",
              "  <thead>\n",
              "    <tr style=\"text-align: right;\">\n",
              "      <th></th>\n",
              "      <th>sequence</th>\n",
              "      <th>class</th>\n",
              "    </tr>\n",
              "  </thead>\n",
              "  <tbody>\n",
              "    <tr>\n",
              "      <th>0</th>\n",
              "      <td>ATGCCCCAACTAAATACCGCCGTATGACCCACCATAATTACCCCCA...</td>\n",
              "      <td>4</td>\n",
              "    </tr>\n",
              "    <tr>\n",
              "      <th>1</th>\n",
              "      <td>ATGAACGAAAATCTATTCGCTTCATTCGCTGCCCCCACAATCCTAG...</td>\n",
              "      <td>4</td>\n",
              "    </tr>\n",
              "    <tr>\n",
              "      <th>2</th>\n",
              "      <td>ATGGCCTCGCGCTGGTGGCGGTGGCGACGCGGCTGCTCCTGGAGGC...</td>\n",
              "      <td>4</td>\n",
              "    </tr>\n",
              "    <tr>\n",
              "      <th>3</th>\n",
              "      <td>ATGGCCTCGCGCTGGTGGCGGTGGCGACGCGGCTGCTCCTGGAGGC...</td>\n",
              "      <td>4</td>\n",
              "    </tr>\n",
              "    <tr>\n",
              "      <th>4</th>\n",
              "      <td>ATGGGCAGCGCCAGCCCGGGTCTGAGCAGCGTGTCCCCCAGCCACC...</td>\n",
              "      <td>6</td>\n",
              "    </tr>\n",
              "  </tbody>\n",
              "</table>\n",
              "</div>\n",
              "      <button class=\"colab-df-convert\" onclick=\"convertToInteractive('df-9a4a1208-5536-48c6-a5e4-19bcdb9e6e40')\"\n",
              "              title=\"Convert this dataframe to an interactive table.\"\n",
              "              style=\"display:none;\">\n",
              "        \n",
              "  <svg xmlns=\"http://www.w3.org/2000/svg\" height=\"24px\"viewBox=\"0 0 24 24\"\n",
              "       width=\"24px\">\n",
              "    <path d=\"M0 0h24v24H0V0z\" fill=\"none\"/>\n",
              "    <path d=\"M18.56 5.44l.94 2.06.94-2.06 2.06-.94-2.06-.94-.94-2.06-.94 2.06-2.06.94zm-11 1L8.5 8.5l.94-2.06 2.06-.94-2.06-.94L8.5 2.5l-.94 2.06-2.06.94zm10 10l.94 2.06.94-2.06 2.06-.94-2.06-.94-.94-2.06-.94 2.06-2.06.94z\"/><path d=\"M17.41 7.96l-1.37-1.37c-.4-.4-.92-.59-1.43-.59-.52 0-1.04.2-1.43.59L10.3 9.45l-7.72 7.72c-.78.78-.78 2.05 0 2.83L4 21.41c.39.39.9.59 1.41.59.51 0 1.02-.2 1.41-.59l7.78-7.78 2.81-2.81c.8-.78.8-2.07 0-2.86zM5.41 20L4 18.59l7.72-7.72 1.47 1.35L5.41 20z\"/>\n",
              "  </svg>\n",
              "      </button>\n",
              "      \n",
              "  <style>\n",
              "    .colab-df-container {\n",
              "      display:flex;\n",
              "      flex-wrap:wrap;\n",
              "      gap: 12px;\n",
              "    }\n",
              "\n",
              "    .colab-df-convert {\n",
              "      background-color: #E8F0FE;\n",
              "      border: none;\n",
              "      border-radius: 50%;\n",
              "      cursor: pointer;\n",
              "      display: none;\n",
              "      fill: #1967D2;\n",
              "      height: 32px;\n",
              "      padding: 0 0 0 0;\n",
              "      width: 32px;\n",
              "    }\n",
              "\n",
              "    .colab-df-convert:hover {\n",
              "      background-color: #E2EBFA;\n",
              "      box-shadow: 0px 1px 2px rgba(60, 64, 67, 0.3), 0px 1px 3px 1px rgba(60, 64, 67, 0.15);\n",
              "      fill: #174EA6;\n",
              "    }\n",
              "\n",
              "    [theme=dark] .colab-df-convert {\n",
              "      background-color: #3B4455;\n",
              "      fill: #D2E3FC;\n",
              "    }\n",
              "\n",
              "    [theme=dark] .colab-df-convert:hover {\n",
              "      background-color: #434B5C;\n",
              "      box-shadow: 0px 1px 3px 1px rgba(0, 0, 0, 0.15);\n",
              "      filter: drop-shadow(0px 1px 2px rgba(0, 0, 0, 0.3));\n",
              "      fill: #FFFFFF;\n",
              "    }\n",
              "  </style>\n",
              "\n",
              "      <script>\n",
              "        const buttonEl =\n",
              "          document.querySelector('#df-9a4a1208-5536-48c6-a5e4-19bcdb9e6e40 button.colab-df-convert');\n",
              "        buttonEl.style.display =\n",
              "          google.colab.kernel.accessAllowed ? 'block' : 'none';\n",
              "\n",
              "        async function convertToInteractive(key) {\n",
              "          const element = document.querySelector('#df-9a4a1208-5536-48c6-a5e4-19bcdb9e6e40');\n",
              "          const dataTable =\n",
              "            await google.colab.kernel.invokeFunction('convertToInteractive',\n",
              "                                                     [key], {});\n",
              "          if (!dataTable) return;\n",
              "\n",
              "          const docLinkHtml = 'Like what you see? Visit the ' +\n",
              "            '<a target=\"_blank\" href=https://colab.research.google.com/notebooks/data_table.ipynb>data table notebook</a>'\n",
              "            + ' to learn more about interactive tables.';\n",
              "          element.innerHTML = '';\n",
              "          dataTable['output_type'] = 'display_data';\n",
              "          await google.colab.output.renderOutput(dataTable, element);\n",
              "          const docLink = document.createElement('div');\n",
              "          docLink.innerHTML = docLinkHtml;\n",
              "          element.appendChild(docLink);\n",
              "        }\n",
              "      </script>\n",
              "    </div>\n",
              "  </div>\n",
              "  "
            ]
          },
          "metadata": {},
          "execution_count": 3
        }
      ]
    },
    {
      "cell_type": "code",
      "source": [
        "dog_data = pd.read_table('/content/dog_data.txt')\n",
        "dog_data.head()"
      ],
      "metadata": {
        "colab": {
          "base_uri": "https://localhost:8080/",
          "height": 206
        },
        "id": "WT9jCr8pe7C5",
        "outputId": "bf461724-98e6-4a4a-c221-327ba83eb333"
      },
      "execution_count": null,
      "outputs": [
        {
          "output_type": "execute_result",
          "data": {
            "text/plain": [
              "                                            sequence  class\n",
              "0  ATGCCACAGCTAGATACATCCACCTGATTTATTATAATCTTTTCAA...      4\n",
              "1  ATGAACGAAAATCTATTCGCTTCTTTCGCTGCCCCCTCAATAATAG...      4\n",
              "2  ATGGAAACACCCTTCTACGGCGATGAGGCGCTGAGCGGCCTGGGCG...      6\n",
              "3  ATGTGCACTAAAATGGAACAGCCCTTCTACCACGACGACTCATACG...      6\n",
              "4  ATGAGCCGGCAGCTAAACAGAAGCCAGAACTGCTCCTTCAGTGACG...      0"
            ],
            "text/html": [
              "\n",
              "  <div id=\"df-0ec81b8c-30a0-4145-9be5-388aa0bdac60\">\n",
              "    <div class=\"colab-df-container\">\n",
              "      <div>\n",
              "<style scoped>\n",
              "    .dataframe tbody tr th:only-of-type {\n",
              "        vertical-align: middle;\n",
              "    }\n",
              "\n",
              "    .dataframe tbody tr th {\n",
              "        vertical-align: top;\n",
              "    }\n",
              "\n",
              "    .dataframe thead th {\n",
              "        text-align: right;\n",
              "    }\n",
              "</style>\n",
              "<table border=\"1\" class=\"dataframe\">\n",
              "  <thead>\n",
              "    <tr style=\"text-align: right;\">\n",
              "      <th></th>\n",
              "      <th>sequence</th>\n",
              "      <th>class</th>\n",
              "    </tr>\n",
              "  </thead>\n",
              "  <tbody>\n",
              "    <tr>\n",
              "      <th>0</th>\n",
              "      <td>ATGCCACAGCTAGATACATCCACCTGATTTATTATAATCTTTTCAA...</td>\n",
              "      <td>4</td>\n",
              "    </tr>\n",
              "    <tr>\n",
              "      <th>1</th>\n",
              "      <td>ATGAACGAAAATCTATTCGCTTCTTTCGCTGCCCCCTCAATAATAG...</td>\n",
              "      <td>4</td>\n",
              "    </tr>\n",
              "    <tr>\n",
              "      <th>2</th>\n",
              "      <td>ATGGAAACACCCTTCTACGGCGATGAGGCGCTGAGCGGCCTGGGCG...</td>\n",
              "      <td>6</td>\n",
              "    </tr>\n",
              "    <tr>\n",
              "      <th>3</th>\n",
              "      <td>ATGTGCACTAAAATGGAACAGCCCTTCTACCACGACGACTCATACG...</td>\n",
              "      <td>6</td>\n",
              "    </tr>\n",
              "    <tr>\n",
              "      <th>4</th>\n",
              "      <td>ATGAGCCGGCAGCTAAACAGAAGCCAGAACTGCTCCTTCAGTGACG...</td>\n",
              "      <td>0</td>\n",
              "    </tr>\n",
              "  </tbody>\n",
              "</table>\n",
              "</div>\n",
              "      <button class=\"colab-df-convert\" onclick=\"convertToInteractive('df-0ec81b8c-30a0-4145-9be5-388aa0bdac60')\"\n",
              "              title=\"Convert this dataframe to an interactive table.\"\n",
              "              style=\"display:none;\">\n",
              "        \n",
              "  <svg xmlns=\"http://www.w3.org/2000/svg\" height=\"24px\"viewBox=\"0 0 24 24\"\n",
              "       width=\"24px\">\n",
              "    <path d=\"M0 0h24v24H0V0z\" fill=\"none\"/>\n",
              "    <path d=\"M18.56 5.44l.94 2.06.94-2.06 2.06-.94-2.06-.94-.94-2.06-.94 2.06-2.06.94zm-11 1L8.5 8.5l.94-2.06 2.06-.94-2.06-.94L8.5 2.5l-.94 2.06-2.06.94zm10 10l.94 2.06.94-2.06 2.06-.94-2.06-.94-.94-2.06-.94 2.06-2.06.94z\"/><path d=\"M17.41 7.96l-1.37-1.37c-.4-.4-.92-.59-1.43-.59-.52 0-1.04.2-1.43.59L10.3 9.45l-7.72 7.72c-.78.78-.78 2.05 0 2.83L4 21.41c.39.39.9.59 1.41.59.51 0 1.02-.2 1.41-.59l7.78-7.78 2.81-2.81c.8-.78.8-2.07 0-2.86zM5.41 20L4 18.59l7.72-7.72 1.47 1.35L5.41 20z\"/>\n",
              "  </svg>\n",
              "      </button>\n",
              "      \n",
              "  <style>\n",
              "    .colab-df-container {\n",
              "      display:flex;\n",
              "      flex-wrap:wrap;\n",
              "      gap: 12px;\n",
              "    }\n",
              "\n",
              "    .colab-df-convert {\n",
              "      background-color: #E8F0FE;\n",
              "      border: none;\n",
              "      border-radius: 50%;\n",
              "      cursor: pointer;\n",
              "      display: none;\n",
              "      fill: #1967D2;\n",
              "      height: 32px;\n",
              "      padding: 0 0 0 0;\n",
              "      width: 32px;\n",
              "    }\n",
              "\n",
              "    .colab-df-convert:hover {\n",
              "      background-color: #E2EBFA;\n",
              "      box-shadow: 0px 1px 2px rgba(60, 64, 67, 0.3), 0px 1px 3px 1px rgba(60, 64, 67, 0.15);\n",
              "      fill: #174EA6;\n",
              "    }\n",
              "\n",
              "    [theme=dark] .colab-df-convert {\n",
              "      background-color: #3B4455;\n",
              "      fill: #D2E3FC;\n",
              "    }\n",
              "\n",
              "    [theme=dark] .colab-df-convert:hover {\n",
              "      background-color: #434B5C;\n",
              "      box-shadow: 0px 1px 3px 1px rgba(0, 0, 0, 0.15);\n",
              "      filter: drop-shadow(0px 1px 2px rgba(0, 0, 0, 0.3));\n",
              "      fill: #FFFFFF;\n",
              "    }\n",
              "  </style>\n",
              "\n",
              "      <script>\n",
              "        const buttonEl =\n",
              "          document.querySelector('#df-0ec81b8c-30a0-4145-9be5-388aa0bdac60 button.colab-df-convert');\n",
              "        buttonEl.style.display =\n",
              "          google.colab.kernel.accessAllowed ? 'block' : 'none';\n",
              "\n",
              "        async function convertToInteractive(key) {\n",
              "          const element = document.querySelector('#df-0ec81b8c-30a0-4145-9be5-388aa0bdac60');\n",
              "          const dataTable =\n",
              "            await google.colab.kernel.invokeFunction('convertToInteractive',\n",
              "                                                     [key], {});\n",
              "          if (!dataTable) return;\n",
              "\n",
              "          const docLinkHtml = 'Like what you see? Visit the ' +\n",
              "            '<a target=\"_blank\" href=https://colab.research.google.com/notebooks/data_table.ipynb>data table notebook</a>'\n",
              "            + ' to learn more about interactive tables.';\n",
              "          element.innerHTML = '';\n",
              "          dataTable['output_type'] = 'display_data';\n",
              "          await google.colab.output.renderOutput(dataTable, element);\n",
              "          const docLink = document.createElement('div');\n",
              "          docLink.innerHTML = docLinkHtml;\n",
              "          element.appendChild(docLink);\n",
              "        }\n",
              "      </script>\n",
              "    </div>\n",
              "  </div>\n",
              "  "
            ]
          },
          "metadata": {},
          "execution_count": 4
        }
      ]
    },
    {
      "cell_type": "markdown",
      "source": [
        "Definitions for each of the 7 classes - Gene Sequence Function group"
      ],
      "metadata": {
        "id": "fPMkYXSqfZ1t"
      }
    },
    {
      "cell_type": "markdown",
      "source": [
        "![image.png](data:image/png;base64,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)"
      ],
      "metadata": {
        "id": "0NKQPGVvfnb1"
      }
    },
    {
      "cell_type": "markdown",
      "source": [
        "Treating DNA sequence as a language -> K-mer counting "
      ],
      "metadata": {
        "id": "wWoYbRE7frym"
      }
    },
    {
      "cell_type": "code",
      "source": [
        "# function to convert sequence strings into k-mer words, default size = 6 (hexamer words)\n",
        "def getKmers(sequence, size=6):\n",
        "    return [sequence[x:x+size].lower() for x in range(len(sequence) - size + 1)]"
      ],
      "metadata": {
        "id": "0ocKTVxGgElx"
      },
      "execution_count": null,
      "outputs": []
    },
    {
      "cell_type": "markdown",
      "source": [
        "Convert training data sequences into short overlapping k-mers of length 6"
      ],
      "metadata": {
        "id": "WL4K5aIqgD45"
      }
    },
    {
      "cell_type": "code",
      "source": [
        "human_data['words'] = human_data.apply(lambda x: getKmers(x['sequence']), axis=1)\n",
        "human_data = human_data.drop('sequence', axis=1)\n",
        "\n",
        "chimp_data['words'] = chimp_data.apply(lambda x: getKmers(x['sequence']), axis=1)\n",
        "chimp_data = chimp_data.drop('sequence', axis=1)\n",
        "\n",
        "dog_data['words'] = dog_data.apply(lambda x: getKmers(x['sequence']), axis=1)\n",
        "dog_data = dog_data.drop('sequence', axis=1)"
      ],
      "metadata": {
        "id": "AAVKruDOgTwD"
      },
      "execution_count": null,
      "outputs": []
    },
    {
      "cell_type": "code",
      "source": [
        "human_data.head()"
      ],
      "metadata": {
        "colab": {
          "base_uri": "https://localhost:8080/",
          "height": 206
        },
        "id": "oBIAMo2QgaZI",
        "outputId": "a4a0ad00-9cdd-4040-e5ad-8939c1a8d88d"
      },
      "execution_count": null,
      "outputs": [
        {
          "output_type": "execute_result",
          "data": {
            "text/plain": [
              "   class                                              words\n",
              "0      4  [atgccc, tgcccc, gcccca, ccccaa, cccaac, ccaac...\n",
              "1      4  [atgaac, tgaacg, gaacga, aacgaa, acgaaa, cgaaa...\n",
              "2      3  [atgtgt, tgtgtg, gtgtgg, tgtggc, gtggca, tggca...\n",
              "3      3  [atgtgt, tgtgtg, gtgtgg, tgtggc, gtggca, tggca...\n",
              "4      3  [atgcaa, tgcaac, gcaaca, caacag, aacagc, acagc..."
            ],
            "text/html": [
              "\n",
              "  <div id=\"df-abc80e10-9adf-4f41-b916-a6fbc67a09b0\">\n",
              "    <div class=\"colab-df-container\">\n",
              "      <div>\n",
              "<style scoped>\n",
              "    .dataframe tbody tr th:only-of-type {\n",
              "        vertical-align: middle;\n",
              "    }\n",
              "\n",
              "    .dataframe tbody tr th {\n",
              "        vertical-align: top;\n",
              "    }\n",
              "\n",
              "    .dataframe thead th {\n",
              "        text-align: right;\n",
              "    }\n",
              "</style>\n",
              "<table border=\"1\" class=\"dataframe\">\n",
              "  <thead>\n",
              "    <tr style=\"text-align: right;\">\n",
              "      <th></th>\n",
              "      <th>class</th>\n",
              "      <th>words</th>\n",
              "    </tr>\n",
              "  </thead>\n",
              "  <tbody>\n",
              "    <tr>\n",
              "      <th>0</th>\n",
              "      <td>4</td>\n",
              "      <td>[atgccc, tgcccc, gcccca, ccccaa, cccaac, ccaac...</td>\n",
              "    </tr>\n",
              "    <tr>\n",
              "      <th>1</th>\n",
              "      <td>4</td>\n",
              "      <td>[atgaac, tgaacg, gaacga, aacgaa, acgaaa, cgaaa...</td>\n",
              "    </tr>\n",
              "    <tr>\n",
              "      <th>2</th>\n",
              "      <td>3</td>\n",
              "      <td>[atgtgt, tgtgtg, gtgtgg, tgtggc, gtggca, tggca...</td>\n",
              "    </tr>\n",
              "    <tr>\n",
              "      <th>3</th>\n",
              "      <td>3</td>\n",
              "      <td>[atgtgt, tgtgtg, gtgtgg, tgtggc, gtggca, tggca...</td>\n",
              "    </tr>\n",
              "    <tr>\n",
              "      <th>4</th>\n",
              "      <td>3</td>\n",
              "      <td>[atgcaa, tgcaac, gcaaca, caacag, aacagc, acagc...</td>\n",
              "    </tr>\n",
              "  </tbody>\n",
              "</table>\n",
              "</div>\n",
              "      <button class=\"colab-df-convert\" onclick=\"convertToInteractive('df-abc80e10-9adf-4f41-b916-a6fbc67a09b0')\"\n",
              "              title=\"Convert this dataframe to an interactive table.\"\n",
              "              style=\"display:none;\">\n",
              "        \n",
              "  <svg xmlns=\"http://www.w3.org/2000/svg\" height=\"24px\"viewBox=\"0 0 24 24\"\n",
              "       width=\"24px\">\n",
              "    <path d=\"M0 0h24v24H0V0z\" fill=\"none\"/>\n",
              "    <path d=\"M18.56 5.44l.94 2.06.94-2.06 2.06-.94-2.06-.94-.94-2.06-.94 2.06-2.06.94zm-11 1L8.5 8.5l.94-2.06 2.06-.94-2.06-.94L8.5 2.5l-.94 2.06-2.06.94zm10 10l.94 2.06.94-2.06 2.06-.94-2.06-.94-.94-2.06-.94 2.06-2.06.94z\"/><path d=\"M17.41 7.96l-1.37-1.37c-.4-.4-.92-.59-1.43-.59-.52 0-1.04.2-1.43.59L10.3 9.45l-7.72 7.72c-.78.78-.78 2.05 0 2.83L4 21.41c.39.39.9.59 1.41.59.51 0 1.02-.2 1.41-.59l7.78-7.78 2.81-2.81c.8-.78.8-2.07 0-2.86zM5.41 20L4 18.59l7.72-7.72 1.47 1.35L5.41 20z\"/>\n",
              "  </svg>\n",
              "      </button>\n",
              "      \n",
              "  <style>\n",
              "    .colab-df-container {\n",
              "      display:flex;\n",
              "      flex-wrap:wrap;\n",
              "      gap: 12px;\n",
              "    }\n",
              "\n",
              "    .colab-df-convert {\n",
              "      background-color: #E8F0FE;\n",
              "      border: none;\n",
              "      border-radius: 50%;\n",
              "      cursor: pointer;\n",
              "      display: none;\n",
              "      fill: #1967D2;\n",
              "      height: 32px;\n",
              "      padding: 0 0 0 0;\n",
              "      width: 32px;\n",
              "    }\n",
              "\n",
              "    .colab-df-convert:hover {\n",
              "      background-color: #E2EBFA;\n",
              "      box-shadow: 0px 1px 2px rgba(60, 64, 67, 0.3), 0px 1px 3px 1px rgba(60, 64, 67, 0.15);\n",
              "      fill: #174EA6;\n",
              "    }\n",
              "\n",
              "    [theme=dark] .colab-df-convert {\n",
              "      background-color: #3B4455;\n",
              "      fill: #D2E3FC;\n",
              "    }\n",
              "\n",
              "    [theme=dark] .colab-df-convert:hover {\n",
              "      background-color: #434B5C;\n",
              "      box-shadow: 0px 1px 3px 1px rgba(0, 0, 0, 0.15);\n",
              "      filter: drop-shadow(0px 1px 2px rgba(0, 0, 0, 0.3));\n",
              "      fill: #FFFFFF;\n",
              "    }\n",
              "  </style>\n",
              "\n",
              "      <script>\n",
              "        const buttonEl =\n",
              "          document.querySelector('#df-abc80e10-9adf-4f41-b916-a6fbc67a09b0 button.colab-df-convert');\n",
              "        buttonEl.style.display =\n",
              "          google.colab.kernel.accessAllowed ? 'block' : 'none';\n",
              "\n",
              "        async function convertToInteractive(key) {\n",
              "          const element = document.querySelector('#df-abc80e10-9adf-4f41-b916-a6fbc67a09b0');\n",
              "          const dataTable =\n",
              "            await google.colab.kernel.invokeFunction('convertToInteractive',\n",
              "                                                     [key], {});\n",
              "          if (!dataTable) return;\n",
              "\n",
              "          const docLinkHtml = 'Like what you see? Visit the ' +\n",
              "            '<a target=\"_blank\" href=https://colab.research.google.com/notebooks/data_table.ipynb>data table notebook</a>'\n",
              "            + ' to learn more about interactive tables.';\n",
              "          element.innerHTML = '';\n",
              "          dataTable['output_type'] = 'display_data';\n",
              "          await google.colab.output.renderOutput(dataTable, element);\n",
              "          const docLink = document.createElement('div');\n",
              "          docLink.innerHTML = docLinkHtml;\n",
              "          element.appendChild(docLink);\n",
              "        }\n",
              "      </script>\n",
              "    </div>\n",
              "  </div>\n",
              "  "
            ]
          },
          "metadata": {},
          "execution_count": 23
        }
      ]
    },
    {
      "cell_type": "markdown",
      "source": [
        "Convert the lists of k-mers for each gene into string sentences of words that the count vectorizer can use"
      ],
      "metadata": {
        "id": "yG4Dj-n-gib0"
      }
    },
    {
      "cell_type": "code",
      "source": [
        "human_texts = list(human_data['words'])\n",
        "for item in range(len(human_texts)):\n",
        "    human_texts[item] = ' '.join(human_texts[item])\n",
        "y_data = human_data.iloc[:, 0].values   "
      ],
      "metadata": {
        "id": "Lmi0Lc5-goI0"
      },
      "execution_count": null,
      "outputs": []
    },
    {
      "cell_type": "code",
      "source": [
        "print(human_texts[2])"
      ],
      "metadata": {
        "colab": {
          "base_uri": "https://localhost:8080/"
        },
        "id": "3QE9uBm_gr0l",
        "outputId": "954982df-c799-4b00-b6bf-6315015db548"
      },
      "execution_count": null,
      "outputs": [
        {
          "output_type": "stream",
          "name": "stdout",
          "text": [
            "atgtgt tgtgtg gtgtgg tgtggc gtggca tggcat ggcatt gcattt catttg atttgg tttggg ttgggc tgggcg gggcgc ggcgct gcgctg cgctgt gctgtt ctgttt tgtttg gtttgg tttggc ttggca tggcag ggcagt gcagtg cagtga agtgat gtgatg tgatga gatgat atgatt tgattg gattgc attgcc ttgcct tgcctt gccttt cctttc ctttct tttctg ttctgt tctgtt ctgttc tgttca gttcag ttcagt tcagtg cagtgt agtgtc gtgtct tgtctg gtctga tctgag ctgagt tgagtg gagtgc agtgct gtgcta tgctat gctatg ctatga tatgaa atgaag tgaaga gaagat aagatt agattg gattgc attgca ttgcac tgcaca gcacac cacaca acacag cacaga acagag cagagg agaggt gaggtc aggtcc ggtcca gtccag tccaga ccagat cagatg agatgc gatgca atgcat tgcatt gcattc cattcc attccg ttccgt tccgtt ccgttt cgtttt gttttg ttttga tttgag ttgaga tgagaa gagaat agaatg gaatgt aatgtc atgtca tgtcaa gtcaat tcaatg caatgg aatgga atggat tggata ggatac gataca atacac tacacc acacca caccaa accaac ccaact caactg aactgc actgct ctgctg tgctgc gctgct ctgctt tgcttt gctttg ctttgg tttgga ttggat tggatt ggattt gatttc atttca tttcac ttcacc tcaccg caccgg accggt ccggtt cggttg ggttgg gttggc ttggcg tggcgg ggcggt gcggta cggtag ggtagt gtagtt tagttg agttga gttgac ttgacc tgaccc gacccg acccgc cccgct ccgctg cgctgt gctgtt ctgttt tgtttg gtttgg tttgga ttggaa tggaat ggaatg gaatgc aatgca atgcag tgcagc gcagcc cagcca agccaa gccaat ccaatt caattc aattcg attcga ttcgag tcgagt cgagtg gagtga agtgaa gtgaag tgaaga gaagaa aagaaa agaaat gaaata aaatat aatatc atatcc tatccg atccgt tccgta ccgtat cgtatt gtattt tatttg atttgt tttgtg ttgtgg tgtggc gtggct tggctc ggctct gctctg ctctgt tctgtt ctgtta tgttac gttaca ttacaa tacaat acaatg caatgg aatggt atggtg tggtga ggtgaa gtgaaa tgaaat gaaatc aaatct aatcta atctac tctaca ctacaa tacaac acaacc caacca aaccat accata ccataa cataag ataaga taagaa aagaag agaaga gaagat aagatg agatgc gatgca atgcaa tgcaac gcaaca caacag aacagc acagca cagcat agcatt gcattt catttt attttg ttttga tttgaa ttgaat tgaatt gaattt aatttg atttga tttgaa ttgaat tgaata gaatac aatacc atacca taccag accaga ccagac cagacc agacca gaccaa accaaa ccaaag caaagt aaagtg aagtgg agtgga gtggat tggatg ggatgg gatggt atggtg tggtga ggtgag gtgaga tgagat gagata agataa gataat ataatc taatcc aatcct atcctt tccttc ccttca cttcat ttcatc tcatct catctt atcttt tcttta ctttat tttatg ttatga tatgac atgaca tgacaa gacaaa acaaag caaagg aaagga aaggag aggagg ggagga gaggaa aggaat ggaatt gaattg aattga attgag ttgagc tgagca gagcaa agcaaa gcaaac caaaca aaacaa aacaat acaatt caattt aatttg atttgt tttgta ttgtat tgtatg gtatgt tatgtt atgttg tgttgg gttgga ttggat tggatg ggatgg gatggt atggtg tggtgt ggtgtg gtgtgt tgtgtt gtgttt tgtttg gtttgc tttgca ttgcat tgcatt gcattt catttg atttgt tttgtt ttgttt tgtttt gtttta ttttac tttact ttactg tactgg actgga ctggat tggata ggatac gatact atactg tactgc actgcc ctgcca tgccaa gccaat ccaata caataa aataag ataaga taagaa aagaaa agaaag gaaagt aaagtg aagtgt agtgtt gtgttc tgttcc gttcct ttcctg tcctgg cctggg ctgggt tgggta gggtag ggtaga gtagag tagaga agagat gagata agatac gataca atacat tacata acatat catatg atatgg tatgga atggag tggagt ggagtc gagtca agtcag gtcaga tcagac cagacc agacct gacctt accttt cctttg ctttgt tttgtt ttgttt tgttta gtttaa tttaaa ttaaag taaagc aaagca aagcaa agcaat gcaatg caatga aatgac atgaca tgacag gacaga acagaa cagaag agaaga gaagat aagatg agatgg gatgga atggat tggatt ggattt gatttt attttt tttttg ttttgg tttggc ttggct tggctg ggctgt gctgta ctgtat tgtatg gtatgt tatgtt atgttc tgttca gttcag ttcaga tcagaa cagaag agaagc gaagct aagcta agctaa gctaaa ctaaag taaagg aaaggt aaggtc aggtct ggtctt gtcttg tcttgt cttgtt ttgtta tgttac gttaca ttacat tacatt acattg cattga attgaa ttgaag tgaagc gaagca aagcac agcact gcactc cactcc actccg ctccgc tccgcg ccgcga cgcgac gcgact cgactc gactcc actccc ctccct tccctt cccttt cctttt cttttt ttttta ttttaa tttaaa ttaaaa taaaag aaaagt aaagtg aagtgg agtgga gtggag tggagc ggagcc gagcct agcctt gccttt cctttt cttttc ttttct tttctt ttcttc tcttcc cttcct ttcctg tcctgg cctgga ctggac tggaca ggacac gacact acacta cactat actatg ctatga tatgaa atgaag tgaagt gaagtt aagttt agtttt gttttg ttttgg tttgga ttggat tggatt ggattt gattta atttaa tttaaa ttaaag taaagc aaagcc aagcca agccaa gccaaa ccaaat caaatg aaatgg aatggc atggca tggcaa ggcaaa gcaaag caaagt aaagtt aagttg agttgc gttgca ttgcat tgcatc gcatcc catccg atccgt tccgtg ccgtgg cgtgga gtggaa tggaaa ggaaat gaaatg aaatgg aatggt atggtt tggtta ggttaa gttaaa ttaaat taaata aaatat aatatc atatca tatcat atcatc tcatca catcac atcact tcactg cactgt actgtc ctgtcg tgtcgg gtcggg tcggga cgggat gggatg ggatgt gatgta atgtac tgtacc gtaccc tacccc acccct cccctg ccctgc cctgca ctgcac tgcacg gcacgc cacgcc acgccc cgccct gccctc ccctct cctcta ctctat tctatg ctatga tatgac atgaca tgacaa gacaat acaatg caatgt aatgtg atgtgg tgtgga gtggag tggaga ggagaa gagaaa agaaac gaaact aaactc aactct actctt ctcttt tctttc ctttcc tttcca ttccag tccagg ccaggt caggtt aggttt ggtttt gttttg ttttga tttgag ttgaga tgagat gagata agatag gataga atagaa tagaaa agaaac gaaact aaactg aactgt actgtg ctgtga tgtgaa gtgaag tgaaga gaagaa aagaac agaaca gaacaa aacaac acaacc caacct aacctc acctca cctcag ctcagg tcagga caggat aggatc ggatcc gatcct atcctt tccttt cctttt cttttt ttttta ttttaa tttaat ttaata taataa aataat ataatg taatgc aatgct atgctg tgctgt gctgta ctgtaa tgtaaa gtaaag taaaga aaagaa aagaaa agaaac gaaacg aaacgt aacgtt acgttt cgtttg gtttga tttgat ttgatg tgatga gatgac atgaca tgacag gacaga acagac cagaca agacag gacaga acagaa cagaag agaagg gaagga aaggat aggatt ggattg gattgg attggc ttggct tggctg ggctgc gctgcc ctgcct tgcctt gccttt cctttt ctttta ttttat tttatc ttatca tatcag atcagg tcaggg cagggg aggggg gggggc ggggct gggctt ggcttg gcttgg cttgga ttggac tggact ggactc gactcc actcca ctccag tccagc ccagct cagctt agcttg gcttgg cttggt ttggtt tggttg ggttgc gttgct ttgctg tgctgc gctgcc ctgcca tgccac gccact ccactc cactct actctg ctctgt tctgtt ctgttg tgttga gttgaa ttgaag tgaagc gaagca aagcag agcagc gcagct cagctg agctga gctgaa ctgaaa tgaaag gaaaga aaagaa aagaag agaagc gaagcc aagccc agccca gcccaa cccaag ccaagt caagta aagtac agtaca gtacag tacagt acagta cagtat agtatc gtatcc tatcct atcctc tcctct cctctc ctctcc tctcca ctccag tccaga ccagac cagaca agacat gacatt acattt catttg atttgc tttgca ttgcaa tgcaat gcaatt caattg aattgg attggc ttggca tggcat ggcatg gcatgg catgga atggaa tggaag ggaaga gaagac aagaca agacag gacagc acagcc cagccc agcccc gccccg ccccga cccgat ccgatt cgattt gattta atttac tttact ttactg tactgg actggc ctggct tggctg ggctgc gctgct ctgcta tgctag gctaga ctagaa tagaaa agaaag gaaagg aaaggt aaggtg aggtgg ggtggc gtggca tggcag ggcaga gcagat cagatc agatca gatcat atcata tcatat catatt atattg tattgg attgga ttggaa tggaag ggaagt gaagtg aagtga agtgaa gtgaac tgaaca gaacat aacatt acatta cattat attatg ttatga tatgaa atgaag tgaagt gaagtc aagtcc agtcct gtcctt tccttt cctttt cttttt ttttta ttttaa tttaac ttaact taactc aactct actctg ctctga tctgag ctgagg tgagga gaggaa aggaag ggaagg gaaggc aaggca aggcat ggcatt gcattc cattca attcag ttcagg tcaggc caggct aggctc ggctct gctctg ctctgg tctgga ctggat tggatg ggatga gatgaa atgaag tgaagt gaagtc aagtca agtcat gtcata tcatat catatt atattt tatttt attttc ttttcc tttcct ttcctt tccttg ccttgg cttgga ttggaa tggaaa ggaaac gaaact aaactt aactta acttat cttatg ttatga tatgac atgaca tgacat gacatt acatta cattac attaca ttacaa tacaac acaaca caacag aacagt acagtt cagttc agttcg gttcgt ttcgtg tcgtgc cgtgct gtgctt tgcttc gcttca cttcag ttcagt tcagta cagtag agtagg gtaggt taggta aggtat ggtatg gtatgt tatgta atgtat tgtatt gtattt tattta atttaa tttaat ttaatt taattt aatttc atttcc tttcca ttccaa tccaag ccaagt caagta aagtat agtata gtatat tatatt atattc tattcg attcgg ttcgga tcggaa cggaag ggaaga gaagaa aagaac agaaca gaacac aacaca acacag cacaga acagat cagata agatag gatagc atagcg tagcgt agcgtg gcgtgg cgtggt gtggtg tggtga ggtgat gtgatc tgatct gatctt atcttc tcttct cttctc ttctct tctctg ctctgg tctgga ctggag tggaga ggagaa gagaag agaagg gaagga aaggat aggatc ggatca gatcag atcaga tcagat cagatg agatga gatgaa atgaac tgaact gaactt aactta acttac cttacg ttacgc tacgca acgcag cgcagg gcaggg cagggt agggtt gggtta ggttac gttaca ttacat tacata acatat catata atatat tatatt atattt tatttt attttc ttttca tttcac ttcaca tcacaa cacaag acaagg caaggc aaggct aggctc ggctcc gctcct ctcctt tccttc ccttct cttctc ttctcc tctcct ctcctg tcctga cctgaa ctgaaa tgaaaa gaaaaa aaaaag aaaagc aaagcc aagccg agccga gccgag ccgagg cgagga gaggag aggagg ggagga gaggag aggaga ggagag gagagt agagtg gagtga agtgag gtgaga tgagag gagagg agaggc gaggct aggctt ggcttc gcttct cttctg ttctga tctgag ctgagg tgaggg gaggga agggaa gggaac ggaact gaactc aactct actcta ctctat tctatt ctattt tatttg atttgt tttgtt ttgttt tgtttg gtttga tttgat ttgatg tgatgt gatgtt atgttc tgttct gttctc ttctcc tctccg ctccgc tccgcg ccgcgc cgcgca gcgcag cgcaga gcagat cagatc agatcg gatcga atcgaa tcgaac cgaact gaacta aactac actact ctactg tactgc actgct ctgctg tgctgc gctgcc ctgccc tgccca gcccat cccatg ccatgg catggt atggtc tggtct ggtctt gtcttg tcttga cttgaa ttgaac tgaact gaactg aactga actgag ctgaga tgagag gagagt agagtc gagtcc agtccc gtccca tcccat cccatt ccattt catttc atttct tttcta ttctag tctaga ctagat tagatc agatca gatcat atcatc tcatcg catcga atcgat tcgatt cgattt gatttt attttc ttttct tttctt ttcttc tcttcc cttcct ttccta tcctat cctatt ctatta tattac attact ttactt tacttg acttgt cttgtc ttgtct tgtctc gtctct tctctg ctctgc tctgcc ctgcca tgccac gccacc ccacca caccag accaga ccagaa cagaaa agaaat gaaatg aaatga aatgag atgaga tgagaa gagaat agaatt gaattc aattcc attcca ttccaa tccaaa ccaaag caaaga aaagaa aagaat agaatg gaatgg aatggg atggga tgggat gggata ggatag gataga atagaa tagaaa agaaaa gaaaaa aaaaac aaaaca aaacat aacatc acatct catctc atctcc tctcct ctcctg tcctga cctgag ctgaga tgagag gagaga agagag gagaga agagac gagacg agacgt gacgtt acgttt cgtttg gtttga tttgag ttgagg tgagga gaggat aggatt ggattc gattcc attcca ttccaa tccaat ccaatc caatct aatctg atctga tctgat ctgata tgatac gatacc ataccc taccca acccaa cccaaa ccaaag caaaga aaagag aagaga agagat gagatt agattc gattct attctc ttctct tctctg ctctgg tctggc ctggcg tggcga ggcgac gcgacc cgacca gaccaa accaaa ccaaaa caaaag aaaaga aaagaa aagaag agaagc gaagcc aagcct agcctt gccttc ccttca cttcag ttcagt tcagtg cagtga agtgat gtgatg tgatgg gatgga atggaa tggaat ggaata gaataa aataac ataact taactt aacttc acttca cttcag ttcagt tcagtt cagtta agttaa gttaag ttaaga taagaa aagaat agaatt gaattc aattcc attcct ttcctg tcctgg cctggt ctggtt tggttt ggttta gtttaa tttaag ttaaga taagat aagatt agattt gatttt atttta ttttac tttaca ttacag tacagg acagga caggaa aggaat ggaata gaatac aatacg atacgt tacgtt acgttg cgttga gttgaa ttgaac tgaaca gaacat aacatc acatca catcag atcagg tcaggt caggtt aggttg ggttga gttgat ttgatg tgatga gatgat atgatg tgatgc gatgca atgcaa tgcaat gcaatg caatga aatgat atgatg tgatgg gatggc atggca tggcaa ggcaaa gcaaat caaatg aaatgc aatgca atgcag tgcagc gcagcc cagccc agccca gcccag cccaga ccagaa cagaaa agaaat gaaatt aaattt aatttc atttcc tttccc ttccct tccctt cccttc ccttca cttcaa ttcaat tcaata caatac aatact atactc tactcc actcct ctccta tcctaa cctaaa ctaaaa taaaac aaaacc aaacca aaccaa accaaa ccaaag caaaga aaagaa aagaag agaagg gaagga aaggat aggata ggatat gatatt atatta tattac attact ttacta tactac actacc ctaccg taccgt accgtc ccgtca cgtcaa gtcaag tcaagt caagtc aagtct agtctt gtcttt tctttg ctttga tttgaa ttgaac tgaacg gaacgc aacgcc acgcca cgccat gccatt ccatta cattac attacc ttaccc taccca acccag cccagg ccaggc caggcc aggccg ggccgg gccggg ccgggc cgggct gggctg ggctga gctgac ctgact tgactg gactgg actggc ctggct tggctg ggctga gctgag ctgagc tgagcc gagcca agccat gccatt ccatta cattac attact ttactg tactgg actgga ctggat tggatg ggatgc gatgcc atgccc tgccca gcccaa cccaag ccaagt caagtg aagtgg agtgga gtggat tggatc ggatca gatcaa atcaat tcaatg caatgc aatgcc atgcca tgccac gccact ccactg cactga actgac ctgacc tgaccc gaccct accctt cccttc ccttct cttctg ttctgc tctgcc ctgccc tgcccg gcccgc cccgca ccgcac cgcacg gcacgc cacgct acgctg cgctga gctgac ctgacc tgaccc gaccca acccac cccact ccacta cactac actaca ctacaa tacaag acaagt caagtc aagtca agtcag gtcagc tcagct cagctg agctgt gctgtc ctgtca tgtcaa gtcaaa tcaaag caaagc aaagct aagctt agctta gcttag\n"
          ]
        }
      ]
    },
    {
      "cell_type": "code",
      "source": [
        "y_data"
      ],
      "metadata": {
        "colab": {
          "base_uri": "https://localhost:8080/"
        },
        "id": "an-pd-1Lg0PM",
        "outputId": "786dbc65-cc6b-436b-a8e4-d372c63a9b2a"
      },
      "execution_count": null,
      "outputs": [
        {
          "output_type": "execute_result",
          "data": {
            "text/plain": [
              "array([4, 4, 3, ..., 6, 6, 6])"
            ]
          },
          "metadata": {},
          "execution_count": 10
        }
      ]
    },
    {
      "cell_type": "code",
      "source": [
        "chimp_texts = list(chimp_data['words'])\n",
        "for item in range(len(chimp_texts)):\n",
        "    chimp_texts[item] = ' '.join(chimp_texts[item])"
      ],
      "metadata": {
        "id": "msD_sN2_g6ME"
      },
      "execution_count": null,
      "outputs": []
    },
    {
      "cell_type": "code",
      "source": [
        "y_chimp = chimp_data.iloc[:, 0].values"
      ],
      "metadata": {
        "id": "vT4ZldWug_p6"
      },
      "execution_count": null,
      "outputs": []
    },
    {
      "cell_type": "code",
      "source": [
        "dog_texts = list(dog_data['words'])\n",
        "for item in range(len(dog_texts)):\n",
        "    dog_texts[item] = ' '.join(dog_texts[item])"
      ],
      "metadata": {
        "id": "zFBtDg50hCr2"
      },
      "execution_count": null,
      "outputs": []
    },
    {
      "cell_type": "code",
      "source": [
        "y_dog = dog_data.iloc[:, 0].values "
      ],
      "metadata": {
        "id": "syjim5nBhNGc"
      },
      "execution_count": null,
      "outputs": []
    },
    {
      "cell_type": "markdown",
      "source": [
        "Apply the BAG of WORDS using CountVectorizer using NLP"
      ],
      "metadata": {
        "id": "x_OXhlDJhQZI"
      }
    },
    {
      "cell_type": "code",
      "source": [
        "# Creating the Bag of Words model using CountVectorizer()\n",
        "# This is equivalent to k-mer counting\n",
        "# The n-gram size of 4 was previously determined by testing\n",
        "\n",
        "from sklearn.feature_extraction.text import CountVectorizer\n",
        "\n",
        "cv = CountVectorizer(ngram_range=(4,4))\n",
        "X = cv.fit_transform(human_texts)\n",
        "X_chimp = cv.transform(chimp_texts)\n",
        "X_dog = cv.transform(dog_texts)"
      ],
      "metadata": {
        "id": "ouU6ydUPhV1D"
      },
      "execution_count": null,
      "outputs": []
    },
    {
      "cell_type": "code",
      "source": [
        "print(X.shape)\n",
        "print(X_chimp.shape)\n",
        "print(X_dog.shape)"
      ],
      "metadata": {
        "colab": {
          "base_uri": "https://localhost:8080/"
        },
        "id": "tcsuVQ7Dhf3F",
        "outputId": "b910cb9e-0589-4bba-e886-22f54cf70c1a"
      },
      "execution_count": null,
      "outputs": [
        {
          "output_type": "stream",
          "name": "stdout",
          "text": [
            "(4380, 232414)\n",
            "(1682, 232414)\n",
            "(820, 232414)\n"
          ]
        }
      ]
    },
    {
      "cell_type": "markdown",
      "source": [
        "Class Balance which shows we have relatively balanced dataset"
      ],
      "metadata": {
        "id": "2nSzWuM8hlfT"
      }
    },
    {
      "cell_type": "code",
      "source": [
        "human_data['class'].value_counts().sort_index().plot.bar()"
      ],
      "metadata": {
        "colab": {
          "base_uri": "https://localhost:8080/",
          "height": 283
        },
        "id": "XfEUWb2Shjs0",
        "outputId": "ade4f92f-baec-4719-81b0-adc70bb9274e"
      },
      "execution_count": null,
      "outputs": [
        {
          "output_type": "execute_result",
          "data": {
            "text/plain": [
              "<matplotlib.axes._subplots.AxesSubplot at 0x7fe905140e50>"
            ]
          },
          "metadata": {},
          "execution_count": 17
        },
        {
          "output_type": "display_data",
          "data": {
            "text/plain": [
              "<Figure size 432x288 with 1 Axes>"
            ],
            "image/png": "[encoded data removed]"
          },
          "metadata": {
            "needs_background": "light"
          }
        }
      ]
    },
    {
      "cell_type": "code",
      "source": [
        "# Splitting the human dataset into the training set and test set\n",
        "\n",
        "from sklearn.model_selection import train_test_split\n",
        "\n",
        "X_train, X_test, y_train, y_test = train_test_split(X, \n",
        "                                                    y_data, \n",
        "                                                    test_size = 0.20, \n",
        "                                                    random_state=42)"
      ],
      "metadata": {
        "id": "_SUJOfXoh5wC"
      },
      "execution_count": null,
      "outputs": []
    },
    {
      "cell_type": "code",
      "source": [
        "print(X_train.shape)\n",
        "print(X_test.shape)"
      ],
      "metadata": {
        "colab": {
          "base_uri": "https://localhost:8080/"
        },
        "id": "yqVUz9OTh-eV",
        "outputId": "01f3b8bd-5460-4321-fcab-5e2cbc0fcb04"
      },
      "execution_count": null,
      "outputs": [
        {
          "output_type": "stream",
          "name": "stdout",
          "text": [
            "(3504, 232414)\n",
            "(876, 232414)\n"
          ]
        }
      ]
    },
    {
      "cell_type": "markdown",
      "source": [
        "Multinomial Naive Bayes classifier"
      ],
      "metadata": {
        "id": "fewKSflviDKy"
      }
    },
    {
      "cell_type": "code",
      "source": [
        "### Multinomial Naive Bayes Classifier ###\n",
        "# The alpha parameter was determined by grid search previously\n",
        "\n",
        "from sklearn.naive_bayes import MultinomialNB\n",
        "\n",
        "classifier = MultinomialNB(alpha=0.1)\n",
        "classifier.fit(X_train, y_train)"
      ],
      "metadata": {
        "colab": {
          "base_uri": "https://localhost:8080/"
        },
        "id": "-o6gJp44iNXy",
        "outputId": "2e4670a0-7874-4f4a-ac16-d051597c61b2"
      },
      "execution_count": null,
      "outputs": [
        {
          "output_type": "execute_result",
          "data": {
            "text/plain": [
              "MultinomialNB(alpha=0.1)"
            ]
          },
          "metadata": {},
          "execution_count": 20
        }
      ]
    },
    {
      "cell_type": "code",
      "source": [
        "y_pred = classifier.predict(X_test)"
      ],
      "metadata": {
        "id": "Uz1uc9w4iXqE"
      },
      "execution_count": null,
      "outputs": []
    },
    {
      "cell_type": "markdown",
      "source": [
        "Model performce metrics like the confusion matrix, accuracy, precision, recall and f1 score"
      ],
      "metadata": {
        "id": "cV6PRtkzigGF"
      }
    },
    {
      "cell_type": "code",
      "source": [
        "from sklearn.metrics import accuracy_score, f1_score, precision_score, recall_score\n",
        "\n",
        "print(\"Confusion matrix\\n\")\n",
        "print(pd.crosstab(pd.Series(y_test, name='Actual'), pd.Series(y_pred, name='Predicted')))\n",
        "\n",
        "def get_metrics(y_test, y_predicted):\n",
        "    accuracy = accuracy_score(y_test, y_predicted)\n",
        "    precision = precision_score(y_test, y_predicted, average='weighted')\n",
        "    recall = recall_score(y_test, y_predicted, average='weighted')\n",
        "    f1 = f1_score(y_test, y_predicted, average='weighted')\n",
        "    return accuracy, precision, recall, f1\n",
        "    \n",
        "accuracy, precision, recall, f1 = get_metrics(y_test, y_pred)\n",
        "print(\"accuracy = %.3f \\nprecision = %.3f \\nrecall = %.3f \\nf1 = %.3f\" % (accuracy, precision, recall, f1))"
      ],
      "metadata": {
        "colab": {
          "base_uri": "https://localhost:8080/"
        },
        "id": "CG1h54G0iieE",
        "outputId": "201cfec4-8087-43c3-d093-7bd5dd0394ac"
      },
      "execution_count": null,
      "outputs": [
        {
          "output_type": "stream",
          "name": "stdout",
          "text": [
            "Confusion matrix\n",
            "\n",
            "Predicted   0    1   2    3    4   5    6\n",
            "Actual                                   \n",
            "0          99    0   0    0    1   0    2\n",
            "1           0  104   0    0    0   0    2\n",
            "2           0    0  78    0    0   0    0\n",
            "3           0    0   0  124    0   0    1\n",
            "4           1    0   0    0  143   0    5\n",
            "5           0    0   0    0    0  51    0\n",
            "6           1    0   0    1    0   0  263\n",
            "accuracy = 0.984 \n",
            "precision = 0.984 \n",
            "recall = 0.984 \n",
            "f1 = 0.984\n"
          ]
        }
      ]
    }
  ]
}